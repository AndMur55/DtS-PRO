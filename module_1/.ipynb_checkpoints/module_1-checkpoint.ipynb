{
 "cells": [
  {
   "cell_type": "code",
   "execution_count": 63,
   "metadata": {
    "_cell_guid": "b1076dfc-b9ad-4769-8c92-a6c4dae69d19",
    "_uuid": "8f2839f25d086af736a60e9eeb907d3b93b6e0e5",
    "colab": {},
    "colab_type": "code",
    "id": "U2D2gTdJVp90"
   },
   "outputs": [],
   "source": [
    "import numpy as np\n",
    "import pandas as pd\n",
    "import seaborn as sns\n",
    "import operator\n",
    "import matplotlib.pyplot as plt\n",
    "from collections import Counter\n",
    "from itertools import combinations"
   ]
  },
  {
   "cell_type": "code",
   "execution_count": 64,
   "metadata": {
    "_cell_guid": "79c7e3d0-c299-4dcb-8224-4455121ee9b0",
    "_uuid": "d629ff2d2480ee46fbb7e2d37f6b5fab8052498a",
    "colab": {},
    "colab_type": "code",
    "id": "oyGfxL3eVp9-",
    "scrolled": true
   },
   "outputs": [],
   "source": [
    "movie_bd = pd.read_csv('movie_bd_v5.csv')"
   ]
  },
  {
   "cell_type": "code",
   "execution_count": 65,
   "metadata": {
    "colab": {},
    "colab_type": "code",
    "id": "CoYUnagMVp-C"
   },
   "outputs": [
    {
     "data": {
      "text/html": [
       "<div>\n",
       "<style scoped>\n",
       "    .dataframe tbody tr th:only-of-type {\n",
       "        vertical-align: middle;\n",
       "    }\n",
       "\n",
       "    .dataframe tbody tr th {\n",
       "        vertical-align: top;\n",
       "    }\n",
       "\n",
       "    .dataframe thead th {\n",
       "        text-align: right;\n",
       "    }\n",
       "</style>\n",
       "<table border=\"1\" class=\"dataframe\">\n",
       "  <thead>\n",
       "    <tr style=\"text-align: right;\">\n",
       "      <th></th>\n",
       "      <th>imdb_id</th>\n",
       "      <th>budget</th>\n",
       "      <th>revenue</th>\n",
       "      <th>original_title</th>\n",
       "      <th>cast</th>\n",
       "      <th>director</th>\n",
       "      <th>tagline</th>\n",
       "      <th>overview</th>\n",
       "      <th>runtime</th>\n",
       "      <th>genres</th>\n",
       "      <th>production_companies</th>\n",
       "      <th>release_date</th>\n",
       "      <th>vote_average</th>\n",
       "      <th>release_year</th>\n",
       "    </tr>\n",
       "  </thead>\n",
       "  <tbody>\n",
       "    <tr>\n",
       "      <th>1441</th>\n",
       "      <td>tt0458352</td>\n",
       "      <td>35000000</td>\n",
       "      <td>326551094</td>\n",
       "      <td>The Devil Wears Prada</td>\n",
       "      <td>Meryl Streep|Anne Hathaway|Emily Blunt|Stanley...</td>\n",
       "      <td>David Frankel</td>\n",
       "      <td>Meet Andy Sachs. A million girls would kill to...</td>\n",
       "      <td>The Devil Wears Prada is about a young journal...</td>\n",
       "      <td>109</td>\n",
       "      <td>Comedy|Drama|Romance</td>\n",
       "      <td>Twentieth Century Fox Film Corporation|Dune En...</td>\n",
       "      <td>6/30/2006</td>\n",
       "      <td>7.0</td>\n",
       "      <td>2006</td>\n",
       "    </tr>\n",
       "    <tr>\n",
       "      <th>532</th>\n",
       "      <td>tt0244244</td>\n",
       "      <td>102000000</td>\n",
       "      <td>147080413</td>\n",
       "      <td>Swordfish</td>\n",
       "      <td>John Travolta|Hugh Jackman|Halle Berry|Don Che...</td>\n",
       "      <td>Dominic Sena</td>\n",
       "      <td>Log On. Hack In. Go Anywhere. Get Everything.</td>\n",
       "      <td>Rogue agent Gabriel Shear is determined to get...</td>\n",
       "      <td>99</td>\n",
       "      <td>Action|Crime|Thriller</td>\n",
       "      <td>Village Roadshow Pictures|NPV Entertainment|Si...</td>\n",
       "      <td>6/7/2001</td>\n",
       "      <td>6.0</td>\n",
       "      <td>2001</td>\n",
       "    </tr>\n",
       "    <tr>\n",
       "      <th>483</th>\n",
       "      <td>tt1456941</td>\n",
       "      <td>27000000</td>\n",
       "      <td>16504936</td>\n",
       "      <td>Tomorrow, When the War Began</td>\n",
       "      <td>Caitlin Stasey|Rachel Hurd-Wood|Phoebe Tonkin|...</td>\n",
       "      <td>Stuart Beattie</td>\n",
       "      <td>Where were you when everything changed?</td>\n",
       "      <td>Ellie Linton, a teen from an Australian coasta...</td>\n",
       "      <td>103</td>\n",
       "      <td>Action|Adventure|Drama</td>\n",
       "      <td>Omnilab Media|Ambience Entertainment</td>\n",
       "      <td>8/8/2010</td>\n",
       "      <td>6.5</td>\n",
       "      <td>2010</td>\n",
       "    </tr>\n",
       "    <tr>\n",
       "      <th>821</th>\n",
       "      <td>tt0376136</td>\n",
       "      <td>45000000</td>\n",
       "      <td>24000000</td>\n",
       "      <td>The Rum Diary</td>\n",
       "      <td>Johnny Depp|Amber Heard|Aaron Eckhart|Michael ...</td>\n",
       "      <td>Bruce Robinson</td>\n",
       "      <td>One part outrage. One part justice. Three part...</td>\n",
       "      <td>Tired of the noise and madness of New York and...</td>\n",
       "      <td>120</td>\n",
       "      <td>Drama|Comedy</td>\n",
       "      <td>FilmEngine|Infinitum Nihil|GK Films</td>\n",
       "      <td>10/13/2011</td>\n",
       "      <td>5.5</td>\n",
       "      <td>2011</td>\n",
       "    </tr>\n",
       "    <tr>\n",
       "      <th>1136</th>\n",
       "      <td>tt0318155</td>\n",
       "      <td>80000000</td>\n",
       "      <td>68514844</td>\n",
       "      <td>Looney Tunes: Back in Action</td>\n",
       "      <td>Brendan Fraser|Jenna Elfman|Steve Martin|Timot...</td>\n",
       "      <td>Joe Dante</td>\n",
       "      <td>Real life has never been so animated.</td>\n",
       "      <td>Bugs Bunny and Daffy Duck are up to their feud...</td>\n",
       "      <td>90</td>\n",
       "      <td>Animation|Comedy|Family</td>\n",
       "      <td>Lonely Film Productions GmbH &amp; Co. KG.|Warner ...</td>\n",
       "      <td>11/14/2003</td>\n",
       "      <td>5.5</td>\n",
       "      <td>2003</td>\n",
       "    </tr>\n",
       "  </tbody>\n",
       "</table>\n",
       "</div>"
      ],
      "text/plain": [
       "        imdb_id     budget    revenue                original_title  \\\n",
       "1441  tt0458352   35000000  326551094         The Devil Wears Prada   \n",
       "532   tt0244244  102000000  147080413                     Swordfish   \n",
       "483   tt1456941   27000000   16504936  Tomorrow, When the War Began   \n",
       "821   tt0376136   45000000   24000000                 The Rum Diary   \n",
       "1136  tt0318155   80000000   68514844  Looney Tunes: Back in Action   \n",
       "\n",
       "                                                   cast        director  \\\n",
       "1441  Meryl Streep|Anne Hathaway|Emily Blunt|Stanley...   David Frankel   \n",
       "532   John Travolta|Hugh Jackman|Halle Berry|Don Che...    Dominic Sena   \n",
       "483   Caitlin Stasey|Rachel Hurd-Wood|Phoebe Tonkin|...  Stuart Beattie   \n",
       "821   Johnny Depp|Amber Heard|Aaron Eckhart|Michael ...  Bruce Robinson   \n",
       "1136  Brendan Fraser|Jenna Elfman|Steve Martin|Timot...       Joe Dante   \n",
       "\n",
       "                                                tagline  \\\n",
       "1441  Meet Andy Sachs. A million girls would kill to...   \n",
       "532       Log On. Hack In. Go Anywhere. Get Everything.   \n",
       "483             Where were you when everything changed?   \n",
       "821   One part outrage. One part justice. Three part...   \n",
       "1136              Real life has never been so animated.   \n",
       "\n",
       "                                               overview  runtime  \\\n",
       "1441  The Devil Wears Prada is about a young journal...      109   \n",
       "532   Rogue agent Gabriel Shear is determined to get...       99   \n",
       "483   Ellie Linton, a teen from an Australian coasta...      103   \n",
       "821   Tired of the noise and madness of New York and...      120   \n",
       "1136  Bugs Bunny and Daffy Duck are up to their feud...       90   \n",
       "\n",
       "                       genres  \\\n",
       "1441     Comedy|Drama|Romance   \n",
       "532     Action|Crime|Thriller   \n",
       "483    Action|Adventure|Drama   \n",
       "821              Drama|Comedy   \n",
       "1136  Animation|Comedy|Family   \n",
       "\n",
       "                                   production_companies release_date  \\\n",
       "1441  Twentieth Century Fox Film Corporation|Dune En...    6/30/2006   \n",
       "532   Village Roadshow Pictures|NPV Entertainment|Si...     6/7/2001   \n",
       "483                Omnilab Media|Ambience Entertainment     8/8/2010   \n",
       "821                 FilmEngine|Infinitum Nihil|GK Films   10/13/2011   \n",
       "1136  Lonely Film Productions GmbH & Co. KG.|Warner ...   11/14/2003   \n",
       "\n",
       "      vote_average  release_year  \n",
       "1441           7.0          2006  \n",
       "532            6.0          2001  \n",
       "483            6.5          2010  \n",
       "821            5.5          2011  \n",
       "1136           5.5          2003  "
      ]
     },
     "execution_count": 65,
     "metadata": {},
     "output_type": "execute_result"
    }
   ],
   "source": [
    "movie_bd.sample(5)"
   ]
  },
  {
   "cell_type": "markdown",
   "metadata": {
    "colab_type": "text",
    "id": "DTIt7ezGVp-G"
   },
   "source": [
    "# Предобработка"
   ]
  },
  {
   "cell_type": "code",
   "execution_count": 66,
   "metadata": {
    "colab": {},
    "colab_type": "code",
    "id": "jNb40DwKVp-H"
   },
   "outputs": [],
   "source": [
    "answers = {} # создадим словарь для ответов"
   ]
  },
  {
   "cell_type": "markdown",
   "metadata": {
    "colab_type": "text",
    "id": "YxZaH-nPVp-L"
   },
   "source": [
    "# 1. У какого фильма из списка самый большой бюджет?"
   ]
  },
  {
   "cell_type": "code",
   "execution_count": 67,
   "metadata": {
    "colab": {},
    "colab_type": "code",
    "id": "uVnXAY5RVp-O"
   },
   "outputs": [
    {
     "data": {
      "text/plain": [
       "'Pirates of the Caribbean: On Stranger Tides'"
      ]
     },
     "execution_count": 67,
     "metadata": {},
     "output_type": "execute_result"
    }
   ],
   "source": [
    "answer_1 = movie_bd.sort_values(by='budget').iloc[-1].original_title \n",
    "answer_1"
   ]
  },
  {
   "cell_type": "code",
   "execution_count": 68,
   "metadata": {
    "colab": {},
    "colab_type": "code",
    "id": "dZwb3m28Vp-S"
   },
   "outputs": [],
   "source": [
    "answers['1'] = answer_1"
   ]
  },
  {
   "cell_type": "markdown",
   "metadata": {
    "colab_type": "text",
    "id": "K7L3nbRXVp-X"
   },
   "source": [
    "ВАРИАНТ 2"
   ]
  },
  {
   "cell_type": "code",
   "execution_count": 69,
   "metadata": {
    "colab": {},
    "colab_type": "code",
    "id": "OGaoQI7rVp-X"
   },
   "outputs": [
    {
     "data": {
      "text/plain": [
       "723    Pirates of the Caribbean: On Stranger Tides\n",
       "Name: original_title, dtype: object"
      ]
     },
     "execution_count": 69,
     "metadata": {},
     "output_type": "execute_result"
    }
   ],
   "source": [
    "movie_bd[movie_bd.budget == movie_bd.budget.max()]['original_title']"
   ]
  },
  {
   "cell_type": "markdown",
   "metadata": {
    "colab_type": "text",
    "id": "FNRbbI3vVp-c"
   },
   "source": [
    "# 2. Какой из фильмов самый длительный (в минутах)?"
   ]
  },
  {
   "cell_type": "code",
   "execution_count": 70,
   "metadata": {
    "colab": {},
    "colab_type": "code",
    "id": "vHAoEXNTVp-d"
   },
   "outputs": [
    {
     "data": {
      "text/plain": [
       "'Gods and Generals'"
      ]
     },
     "execution_count": 70,
     "metadata": {},
     "output_type": "execute_result"
    }
   ],
   "source": [
    "answer_2 = movie_bd.sort_values(by='runtime').iloc[-1].original_title\n",
    "answer_2"
   ]
  },
  {
   "cell_type": "code",
   "execution_count": 71,
   "metadata": {
    "colab": {},
    "colab_type": "code",
    "id": "ot-VX2XrVp-g"
   },
   "outputs": [],
   "source": [
    "answers['2'] = answer_2"
   ]
  },
  {
   "cell_type": "markdown",
   "metadata": {
    "colab_type": "text",
    "id": "bapLlpW8Vp-k"
   },
   "source": [
    "# 3. Какой из фильмов самый короткий (в минутах)?\n",
    "\n",
    "\n",
    "\n"
   ]
  },
  {
   "cell_type": "code",
   "execution_count": 72,
   "metadata": {
    "colab": {},
    "colab_type": "code",
    "id": "YBxaSHuAVp-l"
   },
   "outputs": [
    {
     "data": {
      "text/plain": [
       "'Winnie the Pooh'"
      ]
     },
     "execution_count": 72,
     "metadata": {},
     "output_type": "execute_result"
    }
   ],
   "source": [
    "answer_3 = movie_bd.sort_values(by='runtime').iloc[0].original_title\n",
    "answer_3"
   ]
  },
  {
   "cell_type": "code",
   "execution_count": 73,
   "metadata": {},
   "outputs": [],
   "source": [
    "answers['3'] = answer_3"
   ]
  },
  {
   "cell_type": "markdown",
   "metadata": {
    "colab_type": "text",
    "id": "TfQbxbfNVp-p"
   },
   "source": [
    "# 4. Какова средняя длительность фильмов?\n"
   ]
  },
  {
   "cell_type": "code",
   "execution_count": 74,
   "metadata": {
    "colab": {},
    "colab_type": "code",
    "id": "5K6dKZYVVp-q"
   },
   "outputs": [
    {
     "data": {
      "text/plain": [
       "110"
      ]
     },
     "execution_count": 74,
     "metadata": {},
     "output_type": "execute_result"
    }
   ],
   "source": [
    "answer_4 = round(movie_bd.runtime.mean())\n",
    "answer_4"
   ]
  },
  {
   "cell_type": "code",
   "execution_count": 75,
   "metadata": {},
   "outputs": [],
   "source": [
    "answers['4'] = answer_4"
   ]
  },
  {
   "cell_type": "markdown",
   "metadata": {
    "colab_type": "text",
    "id": "r5TvbnT_Vp-u"
   },
   "source": [
    "# 5. Каково медианное значение длительности фильмов? "
   ]
  },
  {
   "cell_type": "code",
   "execution_count": 76,
   "metadata": {
    "colab": {},
    "colab_type": "code",
    "id": "iBROplKnVp-v"
   },
   "outputs": [],
   "source": [
    "answer_5 = int(movie_bd.runtime.median())"
   ]
  },
  {
   "cell_type": "code",
   "execution_count": 77,
   "metadata": {},
   "outputs": [],
   "source": [
    "answers['5'] = answer_5"
   ]
  },
  {
   "cell_type": "markdown",
   "metadata": {
    "colab_type": "text",
    "id": "39P-deDSVp-y"
   },
   "source": [
    "# 6. Какой самый прибыльный фильм?\n",
    "#### Внимание! Здесь и далее под «прибылью» или «убытками» понимается разность между сборами и бюджетом фильма. (прибыль = сборы - бюджет) в нашем датасете это будет (profit = revenue - budget) "
   ]
  },
  {
   "cell_type": "code",
   "execution_count": 78,
   "metadata": {
    "colab": {},
    "colab_type": "code",
    "id": "UYZh4T9WVp-y"
   },
   "outputs": [
    {
     "data": {
      "text/plain": [
       "'Avatar'"
      ]
     },
     "execution_count": 78,
     "metadata": {},
     "output_type": "execute_result"
    }
   ],
   "source": [
    "movie_bd_profit = movie_bd.copy()\n",
    "movie_bd_profit['profit'] = movie_bd_profit['revenue'] - movie_bd_profit['budget']\n",
    "answer_6 = movie_bd_profit.sort_values(by='profit').iloc[-1].original_title\n",
    "answer_6"
   ]
  },
  {
   "cell_type": "code",
   "execution_count": 79,
   "metadata": {},
   "outputs": [],
   "source": [
    "answers['6'] = answer_6"
   ]
  },
  {
   "cell_type": "markdown",
   "metadata": {
    "colab_type": "text",
    "id": "M99JmIX4Vp-2"
   },
   "source": [
    "# 7. Какой фильм самый убыточный? "
   ]
  },
  {
   "cell_type": "code",
   "execution_count": 80,
   "metadata": {
    "colab": {},
    "colab_type": "code",
    "id": "w-D2m4XPVp-3"
   },
   "outputs": [
    {
     "data": {
      "text/plain": [
       "'The Lone Ranger'"
      ]
     },
     "execution_count": 80,
     "metadata": {},
     "output_type": "execute_result"
    }
   ],
   "source": [
    "answer_7 = movie_bd_profit.sort_values(by='profit').iloc[0].original_title\n",
    "answer_7"
   ]
  },
  {
   "cell_type": "code",
   "execution_count": 81,
   "metadata": {},
   "outputs": [],
   "source": [
    "answers['7'] = answer_7"
   ]
  },
  {
   "cell_type": "markdown",
   "metadata": {
    "colab_type": "text",
    "id": "wEOM5ERVVp-6"
   },
   "source": [
    "# 8. У скольких фильмов из датасета объем сборов оказался выше бюджета?"
   ]
  },
  {
   "cell_type": "code",
   "execution_count": 82,
   "metadata": {
    "colab": {},
    "colab_type": "code",
    "id": "y00_7HD6Vp-7"
   },
   "outputs": [
    {
     "data": {
      "text/plain": [
       "1478"
      ]
     },
     "execution_count": 82,
     "metadata": {},
     "output_type": "execute_result"
    }
   ],
   "source": [
    "answer_8 = len(movie_bd_profit[movie_bd_profit['profit'] > 0])\n",
    "answer_8"
   ]
  },
  {
   "cell_type": "code",
   "execution_count": 83,
   "metadata": {},
   "outputs": [],
   "source": [
    "answers['8'] = answer_8"
   ]
  },
  {
   "cell_type": "markdown",
   "metadata": {
    "colab_type": "text",
    "id": "xhpspA9KVp_A"
   },
   "source": [
    "# 9. Какой фильм оказался самым кассовым в 2008 году?"
   ]
  },
  {
   "cell_type": "code",
   "execution_count": 84,
   "metadata": {
    "colab": {},
    "colab_type": "code",
    "id": "MoUyQr9RVp_B"
   },
   "outputs": [
    {
     "data": {
      "text/plain": [
       "'The Dark Knight'"
      ]
     },
     "execution_count": 84,
     "metadata": {},
     "output_type": "execute_result"
    }
   ],
   "source": [
    "answer_9 = movie_bd[movie_bd.release_year == 2008].sort_values(by='revenue').iloc[-1].original_title\n",
    "answer_9"
   ]
  },
  {
   "cell_type": "code",
   "execution_count": 85,
   "metadata": {},
   "outputs": [],
   "source": [
    "answers['9'] = answer_9"
   ]
  },
  {
   "cell_type": "markdown",
   "metadata": {
    "colab_type": "text",
    "id": "Zi4hDKidVp_F"
   },
   "source": [
    "# 10. Самый убыточный фильм за период с 2012 по 2014 г. (включительно)?\n"
   ]
  },
  {
   "cell_type": "code",
   "execution_count": 86,
   "metadata": {
    "colab": {},
    "colab_type": "code",
    "id": "XqyRmufJVp_F"
   },
   "outputs": [
    {
     "data": {
      "text/plain": [
       "'The Lone Ranger'"
      ]
     },
     "execution_count": 86,
     "metadata": {},
     "output_type": "execute_result"
    }
   ],
   "source": [
    "movie_bd_10 = movie_bd_profit.query('2012 <= release_year <= 2014')\n",
    "answer_10 = movie_bd_10.sort_values(by='profit').iloc[0].original_title\n",
    "answer_10"
   ]
  },
  {
   "cell_type": "code",
   "execution_count": 87,
   "metadata": {},
   "outputs": [],
   "source": [
    "answers['10'] = answer_10"
   ]
  },
  {
   "cell_type": "markdown",
   "metadata": {
    "colab_type": "text",
    "id": "EA7Sa9dkVp_I"
   },
   "source": [
    "# 11. Какого жанра фильмов больше всего?"
   ]
  },
  {
   "cell_type": "code",
   "execution_count": 88,
   "metadata": {
    "colab": {},
    "colab_type": "code",
    "id": "zsJAwJ8QVp_J"
   },
   "outputs": [
    {
     "data": {
      "text/plain": [
       "'Drama'"
      ]
     },
     "execution_count": 88,
     "metadata": {},
     "output_type": "execute_result"
    }
   ],
   "source": [
    "c =  Counter()\n",
    "for item in movie_bd.genres:\n",
    "    film_genres = item.split('|')\n",
    "    for genres in film_genres:\n",
    "        c[genres] += 1\n",
    "dict_genres = dict(c)\n",
    "answer_11 = max(dict_genres.items(), key=operator.itemgetter(1))[0]\n",
    "answer_11"
   ]
  },
  {
   "cell_type": "code",
   "execution_count": 89,
   "metadata": {},
   "outputs": [],
   "source": [
    "answers['11'] = answer_11"
   ]
  },
  {
   "cell_type": "markdown",
   "metadata": {
    "colab_type": "text",
    "id": "T9_bPWpkVp_Q"
   },
   "source": [
    "# 12. Фильмы какого жанра чаще всего становятся прибыльными? "
   ]
  },
  {
   "cell_type": "code",
   "execution_count": 90,
   "metadata": {
    "colab": {},
    "colab_type": "code",
    "id": "Tmt8MaK1Vp_R"
   },
   "outputs": [
    {
     "data": {
      "text/plain": [
       "'Drama'"
      ]
     },
     "execution_count": 90,
     "metadata": {},
     "output_type": "execute_result"
    }
   ],
   "source": [
    "c =  Counter()\n",
    "for item in movie_bd_profit.query('profit > 0').genres:\n",
    "    film_genres = item.split('|')\n",
    "    for genres in film_genres:\n",
    "        c[genres] += 1\n",
    "dict_genres = dict(c)\n",
    "answer_12 = max(dict_genres.items(), key=operator.itemgetter(1))[0]\n",
    "answer_12"
   ]
  },
  {
   "cell_type": "code",
   "execution_count": 91,
   "metadata": {},
   "outputs": [],
   "source": [
    "answers['12'] = answer_12"
   ]
  },
  {
   "cell_type": "markdown",
   "metadata": {
    "colab_type": "text",
    "id": "0F23bgsDVp_U"
   },
   "source": [
    "# 13. У какого режиссера самые большие суммарные кассовые сборы?"
   ]
  },
  {
   "cell_type": "code",
   "execution_count": 92,
   "metadata": {
    "colab": {},
    "colab_type": "code",
    "id": "K6Z3J8ygVp_X"
   },
   "outputs": [
    {
     "data": {
      "text/plain": [
       "'Peter Jackson'"
      ]
     },
     "execution_count": 92,
     "metadata": {},
     "output_type": "execute_result"
    }
   ],
   "source": [
    "movie_bd_13 = movie_bd.groupby(['director'])['revenue'].sum().sort_values()\n",
    "answer_13 = movie_bd_13.index[-1]\n",
    "answer_13"
   ]
  },
  {
   "cell_type": "code",
   "execution_count": 93,
   "metadata": {},
   "outputs": [],
   "source": [
    "answers['13'] = answer_13"
   ]
  },
  {
   "cell_type": "markdown",
   "metadata": {
    "colab_type": "text",
    "id": "PsYC9FgRVp_a"
   },
   "source": [
    "# 14. Какой режисер снял больше всего фильмов в стиле Action?"
   ]
  },
  {
   "cell_type": "code",
   "execution_count": 94,
   "metadata": {
    "colab": {},
    "colab_type": "code",
    "id": "wd2M-wHeVp_b"
   },
   "outputs": [
    {
     "data": {
      "text/plain": [
       "'Robert Rodriguez'"
      ]
     },
     "execution_count": 94,
     "metadata": {},
     "output_type": "execute_result"
    }
   ],
   "source": [
    "movie_bd_14 = movie_bd[movie_bd.genres.str.contains('Action')]\n",
    "c = Counter()\n",
    "for director in movie_bd_14.director:\n",
    "    directors = director.split('|')\n",
    "    for i in directors:\n",
    "        c[i] += 1\n",
    "dict_directors = dict(c)\n",
    "answer_14 = max(dict_directors.items(), key=operator.itemgetter(1))[0]\n",
    "answer_14"
   ]
  },
  {
   "cell_type": "code",
   "execution_count": 95,
   "metadata": {},
   "outputs": [],
   "source": [
    "answers['14'] = answer_14"
   ]
  },
  {
   "cell_type": "markdown",
   "metadata": {
    "colab_type": "text",
    "id": "PQ0KciD7Vp_f"
   },
   "source": [
    "# 15. Фильмы с каким актером принесли самые высокие кассовые сборы в 2012 году? "
   ]
  },
  {
   "cell_type": "code",
   "execution_count": 96,
   "metadata": {
    "colab": {},
    "colab_type": "code",
    "id": "aga62oeKVp_g"
   },
   "outputs": [
    {
     "name": "stderr",
     "output_type": "stream",
     "text": [
      "C:\\Users\\Professional\\anaconda3\\lib\\site-packages\\pandas\\core\\generic.py:5494: SettingWithCopyWarning: \n",
      "A value is trying to be set on a copy of a slice from a DataFrame.\n",
      "Try using .loc[row_indexer,col_indexer] = value instead\n",
      "\n",
      "See the caveats in the documentation: https://pandas.pydata.org/pandas-docs/stable/user_guide/indexing.html#returning-a-view-versus-a-copy\n",
      "  self[name] = value\n"
     ]
    },
    {
     "data": {
      "text/plain": [
       "'Chris Hemsworth'"
      ]
     },
     "execution_count": 96,
     "metadata": {},
     "output_type": "execute_result"
    }
   ],
   "source": [
    "movie_15 = movie_bd[movie_bd.release_year == 2012]\n",
    "movie_15.cast = movie_15.cast.str.split('|')\n",
    "movie_15 = movie_15.explode('cast').groupby(['cast'])['revenue'].sum().sort_values()\n",
    "answer_15 = movie_15.index[-1]\n",
    "answer_15"
   ]
  },
  {
   "cell_type": "code",
   "execution_count": 97,
   "metadata": {},
   "outputs": [],
   "source": [
    "answers['15'] = answer_15"
   ]
  },
  {
   "cell_type": "markdown",
   "metadata": {
    "colab_type": "text",
    "id": "mWHyyL7QVp_j"
   },
   "source": [
    "# 16. Какой актер снялся в большем количестве высокобюджетных фильмов?"
   ]
  },
  {
   "cell_type": "code",
   "execution_count": 98,
   "metadata": {
    "colab": {},
    "colab_type": "code",
    "id": "qQtmHKTFVp_k"
   },
   "outputs": [
    {
     "name": "stderr",
     "output_type": "stream",
     "text": [
      "<ipython-input-98-185546f78c69>:2: SettingWithCopyWarning: \n",
      "A value is trying to be set on a copy of a slice from a DataFrame.\n",
      "Try using .loc[row_indexer,col_indexer] = value instead\n",
      "\n",
      "See the caveats in the documentation: https://pandas.pydata.org/pandas-docs/stable/user_guide/indexing.html#returning-a-view-versus-a-copy\n",
      "  movie_16['cast'] = movie_16.cast.str.split('|')\n"
     ]
    },
    {
     "data": {
      "text/plain": [
       "'Matt Damon'"
      ]
     },
     "execution_count": 98,
     "metadata": {},
     "output_type": "execute_result"
    }
   ],
   "source": [
    "movie_16 = movie_bd.query('budget > budget.mean()')\n",
    "movie_16['cast'] = movie_16.cast.str.split('|')\n",
    "movie_16 = movie_16.explode('cast')\n",
    "c = Counter()\n",
    "for actor in movie_16.cast:\n",
    "    c[actor] += 1\n",
    "dict_actors = dict(c)\n",
    "answer_16 = max(dict_actors.items(), key=operator.itemgetter(1))[0]\n",
    "answer_16"
   ]
  },
  {
   "cell_type": "code",
   "execution_count": 99,
   "metadata": {},
   "outputs": [],
   "source": [
    "answers['16'] = answer_16"
   ]
  },
  {
   "cell_type": "markdown",
   "metadata": {
    "colab_type": "text",
    "id": "NIh6AaW5Vp_n"
   },
   "source": [
    "# 17. В фильмах какого жанра больше всего снимался Nicolas Cage? "
   ]
  },
  {
   "cell_type": "code",
   "execution_count": 100,
   "metadata": {
    "colab": {},
    "colab_type": "code",
    "id": "H74SJDIBVp_n"
   },
   "outputs": [
    {
     "name": "stderr",
     "output_type": "stream",
     "text": [
      "<ipython-input-100-2656756506c6>:2: SettingWithCopyWarning: \n",
      "A value is trying to be set on a copy of a slice from a DataFrame.\n",
      "Try using .loc[row_indexer,col_indexer] = value instead\n",
      "\n",
      "See the caveats in the documentation: https://pandas.pydata.org/pandas-docs/stable/user_guide/indexing.html#returning-a-view-versus-a-copy\n",
      "  movie_17['genres'] = movie_17.genres.str.split('|')\n"
     ]
    },
    {
     "data": {
      "text/plain": [
       "'Action'"
      ]
     },
     "execution_count": 100,
     "metadata": {},
     "output_type": "execute_result"
    }
   ],
   "source": [
    "movie_17 = movie_bd[movie_bd.cast.str.contains('Nicolas Cage')]\n",
    "movie_17['genres'] = movie_17.genres.str.split('|')\n",
    "movie_17 = movie_17.explode('genres')\n",
    "c = Counter()\n",
    "for genre in movie_17.genres:\n",
    "    c[genre] += 1\n",
    "dict_genres = dict(c)\n",
    "answer_17 = max(dict_genres.items(), key=operator.itemgetter(1))[0]\n",
    "answer_17"
   ]
  },
  {
   "cell_type": "code",
   "execution_count": 101,
   "metadata": {},
   "outputs": [],
   "source": [
    "answers['17'] = answer_17"
   ]
  },
  {
   "cell_type": "markdown",
   "metadata": {
    "colab_type": "text",
    "id": "RqOmPRfWVp_q"
   },
   "source": [
    "# 18. Самый убыточный фильм от Paramount Pictures"
   ]
  },
  {
   "cell_type": "code",
   "execution_count": 102,
   "metadata": {
    "colab": {},
    "colab_type": "code",
    "id": "9E_B0Y96Vp_r"
   },
   "outputs": [
    {
     "data": {
      "text/plain": [
       "'K-19: The Widowmaker'"
      ]
     },
     "execution_count": 102,
     "metadata": {},
     "output_type": "execute_result"
    }
   ],
   "source": [
    "movie_18 = movie_bd_profit[movie_bd_profit.production_companies.str.contains('Paramount Pictures')]\n",
    "answer_18 = movie_18.sort_values(by='profit').iloc[0].original_title\n",
    "answer_18"
   ]
  },
  {
   "cell_type": "code",
   "execution_count": 103,
   "metadata": {},
   "outputs": [],
   "source": [
    "answers['18'] = answer_18"
   ]
  },
  {
   "cell_type": "markdown",
   "metadata": {
    "colab_type": "text",
    "id": "vS8Ur6ddVp_u"
   },
   "source": [
    "# 19. Какой год стал самым успешным по суммарным кассовым сборам?"
   ]
  },
  {
   "cell_type": "code",
   "execution_count": 104,
   "metadata": {
    "colab": {},
    "colab_type": "code",
    "id": "Dnbt4GdIVp_v"
   },
   "outputs": [
    {
     "data": {
      "text/plain": [
       "2015"
      ]
     },
     "execution_count": 104,
     "metadata": {},
     "output_type": "execute_result"
    }
   ],
   "source": [
    "movie_19 = movie_bd.groupby(['release_year'])['revenue'].sum()\n",
    "answer_19 = movie_19.sort_values().index[-1]\n",
    "answer_19"
   ]
  },
  {
   "cell_type": "code",
   "execution_count": 105,
   "metadata": {},
   "outputs": [],
   "source": [
    "answers['19'] = answer_19"
   ]
  },
  {
   "cell_type": "markdown",
   "metadata": {
    "colab_type": "text",
    "id": "JAzJh4QAVp_z"
   },
   "source": [
    "# 20. Какой самый прибыльный год для студии Warner Bros?"
   ]
  },
  {
   "cell_type": "code",
   "execution_count": 106,
   "metadata": {
    "colab": {},
    "colab_type": "code",
    "id": "wgVu02DEVp_0"
   },
   "outputs": [
    {
     "data": {
      "text/plain": [
       "2014"
      ]
     },
     "execution_count": 106,
     "metadata": {},
     "output_type": "execute_result"
    }
   ],
   "source": [
    "movie_20 = movie_bd_profit[movie_bd_profit.production_companies.str.contains('Warner Bros')]\n",
    "movie_20 = movie_20.groupby(['release_year'])['profit'].sum()\n",
    "answer_20 = movie_20.sort_values().index[-1]\n",
    "answer_20"
   ]
  },
  {
   "cell_type": "code",
   "execution_count": 107,
   "metadata": {},
   "outputs": [],
   "source": [
    "answers['20'] = answer_20"
   ]
  },
  {
   "cell_type": "markdown",
   "metadata": {
    "colab_type": "text",
    "id": "8Im1S2HRVp_4"
   },
   "source": [
    "# 21. В каком месяце за все годы суммарно вышло больше всего фильмов?"
   ]
  },
  {
   "cell_type": "code",
   "execution_count": 108,
   "metadata": {
    "colab": {},
    "colab_type": "code",
    "id": "lev6TH7gVp_4"
   },
   "outputs": [
    {
     "data": {
      "text/plain": [
       "'Сентябрь'"
      ]
     },
     "execution_count": 108,
     "metadata": {},
     "output_type": "execute_result"
    }
   ],
   "source": [
    "movies_month = 0\n",
    "for month in range(1,13):\n",
    "     if len(movie_bd[movie_bd.release_date.str.match((str(month)+'/'))]) > movies_month:\n",
    "            movies_month = len(movie_bd[movie_bd.release_date.str.match((str(month)+'/'))])\n",
    "            answer_21N = month\n",
    "month_name = ('Январь,Февраль,Март,Апрель,Май,Июнь,Июль,Август,Сентябрь,Октябрь,Ноябрь,Декабрь').split(',')\n",
    "answer_21 = month_name[answer_21N - 1]\n",
    "answer_21 \n"
   ]
  },
  {
   "cell_type": "code",
   "execution_count": 109,
   "metadata": {},
   "outputs": [],
   "source": [
    "answers['21'] = answer_21"
   ]
  },
  {
   "cell_type": "markdown",
   "metadata": {
    "colab_type": "text",
    "id": "uAJsZ_NeVp_7"
   },
   "source": [
    "# 22. Сколько суммарно вышло фильмов летом? (за июнь, июль, август)"
   ]
  },
  {
   "cell_type": "code",
   "execution_count": 110,
   "metadata": {
    "colab": {},
    "colab_type": "code",
    "id": "Aa-hEREoVp_8"
   },
   "outputs": [
    {
     "data": {
      "text/plain": [
       "450"
      ]
     },
     "execution_count": 110,
     "metadata": {},
     "output_type": "execute_result"
    }
   ],
   "source": [
    "answer_22 = len(movie_bd[movie_bd.release_date.str.match('6|7|8')])\n",
    "answer_22"
   ]
  },
  {
   "cell_type": "code",
   "execution_count": 111,
   "metadata": {},
   "outputs": [],
   "source": [
    "answers['22'] = answer_22"
   ]
  },
  {
   "cell_type": "markdown",
   "metadata": {
    "colab_type": "text",
    "id": "G94ppOY1VqAA"
   },
   "source": [
    "# 23. Для какого режиссера зима – самое продуктивное время года? "
   ]
  },
  {
   "cell_type": "code",
   "execution_count": 112,
   "metadata": {
    "colab": {},
    "colab_type": "code",
    "id": "RhNTsamuVqAB"
   },
   "outputs": [
    {
     "name": "stderr",
     "output_type": "stream",
     "text": [
      "<ipython-input-112-8fd3d1c48109>:2: SettingWithCopyWarning: \n",
      "A value is trying to be set on a copy of a slice from a DataFrame.\n",
      "Try using .loc[row_indexer,col_indexer] = value instead\n",
      "\n",
      "See the caveats in the documentation: https://pandas.pydata.org/pandas-docs/stable/user_guide/indexing.html#returning-a-view-versus-a-copy\n",
      "  movie_23['director'] = movie_23.director.str.split('|')\n"
     ]
    },
    {
     "data": {
      "text/plain": [
       "'Peter Jackson'"
      ]
     },
     "execution_count": 112,
     "metadata": {},
     "output_type": "execute_result"
    }
   ],
   "source": [
    "movie_23 = movie_bd[movie_bd.release_date.str.match('1/|2/|12/')]\n",
    "movie_23['director'] = movie_23.director.str.split('|')\n",
    "movie_23 = movie_23.explode('director')\n",
    "c = Counter()\n",
    "for director in movie_23.director:\n",
    "    c[director] += 1\n",
    "dict_directors = dict(c)\n",
    "answer_23 = max(dict_directors.items(), key=operator.itemgetter(1))[0]\n",
    "answer_23"
   ]
  },
  {
   "cell_type": "code",
   "execution_count": 113,
   "metadata": {},
   "outputs": [],
   "source": [
    "answers['23'] = answer_23"
   ]
  },
  {
   "cell_type": "markdown",
   "metadata": {
    "colab_type": "text",
    "id": "RBo0JVjVVqAF"
   },
   "source": [
    "# 24. Какая студия дает самые длинные названия своим фильмам по количеству символов?"
   ]
  },
  {
   "cell_type": "code",
   "execution_count": 114,
   "metadata": {
    "colab": {},
    "colab_type": "code",
    "id": "QRGS8L0iVqAG"
   },
   "outputs": [
    {
     "data": {
      "text/plain": [
       "'Four By Two Productions'"
      ]
     },
     "execution_count": 114,
     "metadata": {},
     "output_type": "execute_result"
    }
   ],
   "source": [
    "movie_24 = movie_bd.copy()\n",
    "movie_24['original_title'] = movie_24.original_title.apply(lambda x : len(x))\n",
    "movie_24['production_companies'] = movie_24.production_companies.str.split('|')\n",
    "movie_24 = movie_24.explode('production_companies')\n",
    "answer_24 = movie_24.sort_values(by = 'original_title').iloc[-1].production_companies\n",
    "answer_24"
   ]
  },
  {
   "cell_type": "code",
   "execution_count": 115,
   "metadata": {},
   "outputs": [],
   "source": [
    "answers['24'] = answer_24"
   ]
  },
  {
   "cell_type": "markdown",
   "metadata": {
    "colab_type": "text",
    "id": "9G0hbvR7VqAK"
   },
   "source": [
    "# 25. Описание фильмов какой студии в среднем самые длинные по количеству слов?"
   ]
  },
  {
   "cell_type": "code",
   "execution_count": 116,
   "metadata": {
    "colab": {},
    "colab_type": "code",
    "id": "Ge2GsLNxVqAK"
   },
   "outputs": [
    {
     "data": {
      "text/plain": [
       "'Midnight Picture Show'"
      ]
     },
     "execution_count": 116,
     "metadata": {},
     "output_type": "execute_result"
    }
   ],
   "source": [
    "movie_25 = movie_bd.copy()\n",
    "movie_25['overview'] = movie_25.overview.apply(lambda x : len(x))\n",
    "movie_25['production_companies'] = movie_25.production_companies.str.split('|')\n",
    "movie_25 = movie_25.explode('production_companies')\n",
    "movie_25 = movie_25.groupby(['production_companies'])[['overview']].mean().sort_values(by='overview')\n",
    "answer_25 = movie_25.index[-1]\n",
    "answer_25"
   ]
  },
  {
   "cell_type": "code",
   "execution_count": 117,
   "metadata": {},
   "outputs": [],
   "source": [
    "answers['25'] = answer_25"
   ]
  },
  {
   "cell_type": "markdown",
   "metadata": {
    "colab_type": "text",
    "id": "FJ1AFt90VqAP"
   },
   "source": [
    "# 26. Какие фильмы входят в 1 процент лучших по рейтингу? "
   ]
  },
  {
   "cell_type": "code",
   "execution_count": 118,
   "metadata": {
    "colab": {},
    "colab_type": "code",
    "id": "8qmJVq4CVqAQ"
   },
   "outputs": [
    {
     "data": {
      "text/plain": [
       "['Inside Out',\n",
       " 'Spotlight',\n",
       " 'Room',\n",
       " 'Interstellar',\n",
       " 'Guardians of the Galaxy',\n",
       " 'Big Hero 6',\n",
       " 'The Imitation Game',\n",
       " 'Gone Girl',\n",
       " 'The Grand Budapest Hotel',\n",
       " 'The Theory of Everything',\n",
       " 'The Fault in Our Stars',\n",
       " 'Mr. Nobody',\n",
       " '3 Idiots',\n",
       " 'Inception',\n",
       " 'The Lord of the Rings: The Fellowship of the Ring',\n",
       " 'The Dark Knight',\n",
       " 'The Lord of the Rings: The Two Towers',\n",
       " 'The Pianist',\n",
       " 'The Lord of the Rings: The Return of the King',\n",
       " 'The Wolf of Wall Street',\n",
       " 'Her',\n",
       " '12 Years a Slave',\n",
       " 'Prisoners',\n",
       " 'Dallas Buyers Club',\n",
       " 'The Prestige',\n",
       " 'Eternal Sunshine of the Spotless Mind',\n",
       " 'There Will Be Blood',\n",
       " 'Memento']"
      ]
     },
     "execution_count": 118,
     "metadata": {},
     "output_type": "execute_result"
    }
   ],
   "source": [
    "answer_26 = []\n",
    "movie_bd_per99 = np.percentile(movie_bd.vote_average, 99)\n",
    "movie_bd_26 = movie_bd[movie_bd.vote_average >= movie_bd_per99]\n",
    "for movie in movie_bd_26.original_title:\n",
    "    answer_26.append(movie)\n",
    "answer_26"
   ]
  },
  {
   "cell_type": "code",
   "execution_count": 119,
   "metadata": {},
   "outputs": [],
   "source": [
    "#Если выбирать ответ из списка предложенных, то подходит лишь первый \"Inside Out, The Dark Knight, 12 Years a Slave\"\n",
    "#В этом случае answer_26 = 'Inside Out, The Dark Knight, 12 Years a Slave'"
   ]
  },
  {
   "cell_type": "code",
   "execution_count": 120,
   "metadata": {},
   "outputs": [],
   "source": [
    "answers['26'] = answer_26"
   ]
  },
  {
   "cell_type": "markdown",
   "metadata": {
    "colab_type": "text",
    "id": "MdXsUXbCVqAV"
   },
   "source": [
    "# 27. Какие актеры чаще всего снимаются в одном фильме вместе?\n"
   ]
  },
  {
   "cell_type": "code",
   "execution_count": 121,
   "metadata": {},
   "outputs": [
    {
     "data": {
      "text/plain": [
       "'Samuel L. Jackson'"
      ]
     },
     "execution_count": 121,
     "metadata": {},
     "output_type": "execute_result"
    }
   ],
   "source": [
    "movie_27 = movie_bd.copy()\n",
    "movie_27['cast'] = movie_27.cast.str.split('|')\n",
    "movie_27['cast'] = movie_27.cast.apply(lambda x: list(combinations(sorted(x),2)))\n",
    "movie_27 = movie_27.explode('cast').explode('cast')\n",
    "answer_27 = movie_27.cast.value_counts().index[0]\n",
    "answer_27"
   ]
  },
  {
   "cell_type": "code",
   "execution_count": 122,
   "metadata": {},
   "outputs": [],
   "source": [
    "answers['27'] = answer_27"
   ]
  },
  {
   "cell_type": "markdown",
   "metadata": {
    "colab_type": "text",
    "id": "U0nONFnGVqAX"
   },
   "source": [
    "# Submission"
   ]
  },
  {
   "cell_type": "code",
   "execution_count": 123,
   "metadata": {
    "colab": {},
    "colab_type": "code",
    "id": "IfcaRO9-VqAX",
    "outputId": "0f132912-32bb-4196-c98c-abfbc4ad5a5f"
   },
   "outputs": [
    {
     "data": {
      "text/plain": [
       "{'1': 'Pirates of the Caribbean: On Stranger Tides',\n",
       " '2': 'Gods and Generals',\n",
       " '3': 'Winnie the Pooh',\n",
       " '4': 110,\n",
       " '5': 107,\n",
       " '6': 'Avatar',\n",
       " '7': 'The Lone Ranger',\n",
       " '8': 1478,\n",
       " '9': 'The Dark Knight',\n",
       " '10': 'The Lone Ranger',\n",
       " '11': 'Drama',\n",
       " '12': 'Drama',\n",
       " '13': 'Peter Jackson',\n",
       " '14': 'Robert Rodriguez',\n",
       " '15': 'Chris Hemsworth',\n",
       " '16': 'Matt Damon',\n",
       " '17': 'Action',\n",
       " '18': 'K-19: The Widowmaker',\n",
       " '19': 2015,\n",
       " '20': 2014,\n",
       " '21': 'Сентябрь',\n",
       " '22': 450,\n",
       " '23': 'Peter Jackson',\n",
       " '24': 'Four By Two Productions',\n",
       " '25': 'Midnight Picture Show',\n",
       " '26': ['Inside Out',\n",
       "  'Spotlight',\n",
       "  'Room',\n",
       "  'Interstellar',\n",
       "  'Guardians of the Galaxy',\n",
       "  'Big Hero 6',\n",
       "  'The Imitation Game',\n",
       "  'Gone Girl',\n",
       "  'The Grand Budapest Hotel',\n",
       "  'The Theory of Everything',\n",
       "  'The Fault in Our Stars',\n",
       "  'Mr. Nobody',\n",
       "  '3 Idiots',\n",
       "  'Inception',\n",
       "  'The Lord of the Rings: The Fellowship of the Ring',\n",
       "  'The Dark Knight',\n",
       "  'The Lord of the Rings: The Two Towers',\n",
       "  'The Pianist',\n",
       "  'The Lord of the Rings: The Return of the King',\n",
       "  'The Wolf of Wall Street',\n",
       "  'Her',\n",
       "  '12 Years a Slave',\n",
       "  'Prisoners',\n",
       "  'Dallas Buyers Club',\n",
       "  'The Prestige',\n",
       "  'Eternal Sunshine of the Spotless Mind',\n",
       "  'There Will Be Blood',\n",
       "  'Memento'],\n",
       " '27': 'Samuel L. Jackson'}"
      ]
     },
     "execution_count": 123,
     "metadata": {},
     "output_type": "execute_result"
    }
   ],
   "source": [
    "#  Ответы к каждому вопросу\n",
    "answers"
   ]
  },
  {
   "cell_type": "code",
   "execution_count": 124,
   "metadata": {
    "colab": {},
    "colab_type": "code",
    "id": "SiRmHPl8VqAd"
   },
   "outputs": [
    {
     "data": {
      "text/plain": [
       "27"
      ]
     },
     "execution_count": 124,
     "metadata": {},
     "output_type": "execute_result"
    }
   ],
   "source": [
    "# Количество ответов соответствует количеству вопросов\n",
    "len(answers)"
   ]
  }
 ],
 "metadata": {
  "colab": {
   "name": "Copy of [SF-DST] Movies IMBD v4.1 TEMPLATE.ipynb",
   "provenance": []
  },
  "kernelspec": {
   "display_name": "Python 3",
   "language": "python",
   "name": "python3"
  },
  "language_info": {
   "codemirror_mode": {
    "name": "ipython",
    "version": 3
   },
   "file_extension": ".py",
   "mimetype": "text/x-python",
   "name": "python",
   "nbconvert_exporter": "python",
   "pygments_lexer": "ipython3",
   "version": "3.8.8"
  }
 },
 "nbformat": 4,
 "nbformat_minor": 1
}
